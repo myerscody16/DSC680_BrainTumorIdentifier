{
 "cells": [
  {
   "cell_type": "code",
   "execution_count": 1,
   "metadata": {},
   "outputs": [],
   "source": [
    "%load_ext tensorboard\n",
    "from os import path, listdir, mkdir\n",
    "import pandas as pd\n",
    "import numpy as np\n",
    "from keras.preprocessing.image import ImageDataGenerator\n",
    "from keras import optimizers, Sequential\n",
    "from keras.layers import Conv2D, Activation, MaxPooling2D, Dropout, Flatten, Dense, GlobalAveragePooling2D\n",
    "from tensorflow.keras.models import Model\n",
    "import tensorflow as tf\n",
    "from zipfile import ZipFile\n",
    "from PIL import Image\n",
    "from keras.callbacks import History\n",
    "import matplotlib.pyplot as plt\n",
    "from keras.callbacks import TensorBoard\n",
    "import time\n",
    "from sklearn.model_selection import train_test_split\n",
    "from shutil import copyfile\n",
    "from tensorflow.keras.applications.vgg16 import VGG16\n",
    "history = History()"
   ]
  },
  {
   "cell_type": "code",
   "execution_count": 2,
   "metadata": {},
   "outputs": [],
   "source": [
    "#filename = 'brain_tumors.zip'\n",
    "#with ZipFile(filename, 'r') as zip:\n",
    "#    print('Extracting files')\n",
    "#    zip.extractall(\"./brain_tumors/images\")\n",
    "#    print('Done')"
   ]
  },
  {
   "cell_type": "code",
   "execution_count": 3,
   "metadata": {},
   "outputs": [
    {
     "data": {
      "text/html": [
       "<div>\n",
       "<style scoped>\n",
       "    .dataframe tbody tr th:only-of-type {\n",
       "        vertical-align: middle;\n",
       "    }\n",
       "\n",
       "    .dataframe tbody tr th {\n",
       "        vertical-align: top;\n",
       "    }\n",
       "\n",
       "    .dataframe thead th {\n",
       "        text-align: right;\n",
       "    }\n",
       "</style>\n",
       "<table border=\"1\" class=\"dataframe\">\n",
       "  <thead>\n",
       "    <tr style=\"text-align: right;\">\n",
       "      <th></th>\n",
       "      <th>filename</th>\n",
       "      <th>class</th>\n",
       "    </tr>\n",
       "  </thead>\n",
       "  <tbody>\n",
       "    <tr>\n",
       "      <th>0</th>\n",
       "      <td>1 no.jpeg</td>\n",
       "      <td>0</td>\n",
       "    </tr>\n",
       "    <tr>\n",
       "      <th>1</th>\n",
       "      <td>10 no.jpg</td>\n",
       "      <td>0</td>\n",
       "    </tr>\n",
       "    <tr>\n",
       "      <th>2</th>\n",
       "      <td>11 no.jpg</td>\n",
       "      <td>0</td>\n",
       "    </tr>\n",
       "    <tr>\n",
       "      <th>3</th>\n",
       "      <td>12 no.jpg</td>\n",
       "      <td>0</td>\n",
       "    </tr>\n",
       "    <tr>\n",
       "      <th>4</th>\n",
       "      <td>13 no.jpg</td>\n",
       "      <td>0</td>\n",
       "    </tr>\n",
       "    <tr>\n",
       "      <th>...</th>\n",
       "      <td>...</td>\n",
       "      <td>...</td>\n",
       "    </tr>\n",
       "    <tr>\n",
       "      <th>248</th>\n",
       "      <td>Y95.jpg</td>\n",
       "      <td>1</td>\n",
       "    </tr>\n",
       "    <tr>\n",
       "      <th>249</th>\n",
       "      <td>Y96.jpg</td>\n",
       "      <td>1</td>\n",
       "    </tr>\n",
       "    <tr>\n",
       "      <th>250</th>\n",
       "      <td>Y97.JPG</td>\n",
       "      <td>1</td>\n",
       "    </tr>\n",
       "    <tr>\n",
       "      <th>251</th>\n",
       "      <td>Y98.JPG</td>\n",
       "      <td>1</td>\n",
       "    </tr>\n",
       "    <tr>\n",
       "      <th>252</th>\n",
       "      <td>Y99.JPG</td>\n",
       "      <td>1</td>\n",
       "    </tr>\n",
       "  </tbody>\n",
       "</table>\n",
       "<p>253 rows × 2 columns</p>\n",
       "</div>"
      ],
      "text/plain": [
       "      filename class\n",
       "0    1 no.jpeg     0\n",
       "1    10 no.jpg     0\n",
       "2    11 no.jpg     0\n",
       "3    12 no.jpg     0\n",
       "4    13 no.jpg     0\n",
       "..         ...   ...\n",
       "248    Y95.jpg     1\n",
       "249    Y96.jpg     1\n",
       "250    Y97.JPG     1\n",
       "251    Y98.JPG     1\n",
       "252    Y99.JPG     1\n",
       "\n",
       "[253 rows x 2 columns]"
      ]
     },
     "execution_count": 3,
     "metadata": {},
     "output_type": "execute_result"
    }
   ],
   "source": [
    "no_pic_names = [fn for fn in listdir(\"./brain_tumors/images/no\")]\n",
    "yes_pic_names = [fn for fn in listdir(\"./brain_tumors/images/yes\")]\n",
    "for fn in yes_pic_names:\n",
    "    no_pic_names.append(fn)\n",
    "no_pic_names\n",
    "\n",
    "pic_dict = {}\n",
    "for fn in no_pic_names:\n",
    "    if 'n' in fn.lower():\n",
    "        pic_dict[fn] = \"0\"\n",
    "    else:\n",
    "        pic_dict[fn] = \"1\"\n",
    "        \n",
    "tumor_labels = pd.DataFrame({'filename': list(pic_dict.keys()), 'class': list(pic_dict.values())})\n",
    "tumor_labels"
   ]
  },
  {
   "cell_type": "code",
   "execution_count": 4,
   "metadata": {},
   "outputs": [],
   "source": [
    "# Create a train-test split and move the files from each yes and no into a train and a test folder\n",
    "train, test = train_test_split(tumor_labels, test_size=0.2, stratify=tumor_labels['class'])\n",
    "\n",
    "# Create a timestamp for the iterations of the train and test folders\n",
    "TIME = time.time()\n",
    "\n",
    "# Filepaths for where the images are and where they need to be\n",
    "no_prefix = \"./brain_tumors/images/no/\"\n",
    "yes_prefix = \"./brain_tumors/images/yes/\"\n",
    "train_dst = \"./brain_tumors/train-{}/\".format(TIME)\n",
    "test_dst = \"./brain_tumors/test-{}/\".format(TIME)\n",
    "\n",
    "# Create train and test directories if they don't already exist\n",
    "if not path.exists(train_dst):\n",
    "    mkdir(train_dst)\n",
    "\n",
    "if not path.exists(test_dst):\n",
    "    mkdir(test_dst)\n",
    "\n",
    "# Copy images that exist in the \"yes\" and \"no\" folders and separate them as train and test based on the train test split\n",
    "for fn in tumor_labels.iterrows():\n",
    "    if 'n' in fn[1][0].lower().split(\".\")[0]:\n",
    "        copyfile(no_prefix+fn[1][0], train_dst+fn[1][0])\n",
    "        image = Image.open(no_prefix+fn[1][0])\n",
    "        image = image.resize((96, 96), Image.ANTIALIAS)\n",
    "        rgb_im = image.convert('RGB')\n",
    "        image.save(fn[1][0], 'PNG', quality=90)\n",
    "    else:\n",
    "        copyfile(yes_prefix+fn[1][0], train_dst+fn[1][0])\n",
    "        image = Image.open(yes_prefix+fn[1][0])\n",
    "        image = image.resize((96, 96), Image.ANTIALIAS)\n",
    "        rgb_im = image.convert('RGB')\n",
    "        quality_val = 90\n",
    "        image.save(fn[1][0], 'PNG', quality=quality_val)\n",
    "        \n",
    "for fn in test.iterrows():\n",
    "    if 'n' in fn[1][0].lower().split(\".\")[0]:\n",
    "        copyfile(no_prefix+fn[1][0], test_dst+fn[1][0])\n",
    "        image = Image.open(test_dst+fn[1][0])\n",
    "        image = image.resize((96, 96), Image.ANTIALIAS)\n",
    "        rgb_im = image.convert('RGB')\n",
    "        image.save(fn[1][0], 'PNG', quality=90)\n",
    "    else:\n",
    "        copyfile(yes_prefix+fn[1][0], test_dst+fn[1][0])\n",
    "        image = Image.open(test_dst+fn[1][0])\n",
    "        image = image.resize((96, 96), Image.ANTIALIAS)\n",
    "        rgb_im = image.convert('RGB')\n",
    "        image.save(fn[1][0], 'PNG', quality=90)"
   ]
  },
  {
   "cell_type": "code",
   "execution_count": 5,
   "metadata": {},
   "outputs": [
    {
     "name": "stdout",
     "output_type": "stream",
     "text": [
      "1427 1920\n"
     ]
    }
   ],
   "source": [
    "# Find the max pixel width and height of all images\n",
    "def get_pixel_measurement(filepath):\n",
    "    height, length = Image.open(filepath).size\n",
    "    #print(Image.open(filepath).mode)\n",
    "    return (height, length)\n",
    "\n",
    "length = 0\n",
    "height = 0\n",
    "\n",
    "for fn in listdir(\"./brain_tumors/images/no\"):\n",
    "    measurements = get_pixel_measurement(no_prefix + \"/\" + fn)\n",
    "    if measurements[0] > height:\n",
    "        height = measurements[0]\n",
    "    if measurements[1] > length:\n",
    "        length = measurements[1]\n",
    "\n",
    "for fn in listdir(\"./brain_tumors/images/yes\"):\n",
    "    measurements = get_pixel_measurement(yes_prefix + \"/\" + fn)\n",
    "    if measurements[0] > height:\n",
    "        height = measurements[0]\n",
    "    if measurements[1] > length:\n",
    "        length = measurements[1]\n",
    "        \n",
    "print(length, height)"
   ]
  },
  {
   "cell_type": "code",
   "execution_count": 6,
   "metadata": {},
   "outputs": [
    {
     "name": "stdout",
     "output_type": "stream",
     "text": [
      "Found 152 validated image filenames belonging to 2 classes.\n",
      "Found 20 validated image filenames belonging to 2 classes.\n"
     ]
    },
    {
     "name": "stderr",
     "output_type": "stream",
     "text": [
      "G:\\Anaconda\\lib\\site-packages\\keras_preprocessing\\image\\dataframe_iterator.py:279: UserWarning: Found 202 invalid image filename(s) in x_col=\"filename\". These filename(s) will be ignored.\n",
      "  warnings.warn(\n"
     ]
    }
   ],
   "source": [
    "train_datagen = ImageDataGenerator(\n",
    "    rotation_range=15,\n",
    "    rescale=1./255,\n",
    "    shear_range=0.1,\n",
    "    zoom_range=0.2,\n",
    "    horizontal_flip=True,\n",
    "    width_shift_range=0.1,\n",
    "    height_shift_range=0.1,\n",
    "    validation_split = 0.4\n",
    ")\n",
    "\n",
    "train_generator = train_datagen.flow_from_dataframe(\n",
    "    tumor_labels, \n",
    "    train_dst,\n",
    "    x_col='filename',\n",
    "    y_col='class',\n",
    "    class_mode='binary',\n",
    "    color_mode='rgb',\n",
    "    batch_size=4,\n",
    "    subset = 'training'\n",
    ")\n",
    "\n",
    "val_generator = train_datagen.flow_from_dataframe(\n",
    "        tumor_labels,\n",
    "        test_dst,\n",
    "        x_col='filename',\n",
    "        y_col='class',\n",
    "        color_mode='rgb',\n",
    "        batch_size=4,\n",
    "        class_mode='binary',\n",
    "        subset='validation'\n",
    ")"
   ]
  },
  {
   "cell_type": "code",
   "execution_count": 7,
   "metadata": {},
   "outputs": [],
   "source": [
    "conv = VGG16(input_shape=(96, 96, 3), \n",
    "             weights='imagenet', \n",
    "             include_top=False)"
   ]
  },
  {
   "cell_type": "code",
   "execution_count": 8,
   "metadata": {},
   "outputs": [],
   "source": [
    "x = conv.output\n",
    "x = GlobalAveragePooling2D()(x)\n",
    "x = Dense(1024, activation='relu')(x)\n",
    "x = Dense(1024, activation='relu')(x)\n",
    "x = Dense(512, activation='relu')(x)\n",
    "pred = Dense(1, activation='sigmoid')(x)\n",
    "\n",
    "model = Model(inputs = conv.input,\n",
    "              outputs=pred)"
   ]
  },
  {
   "cell_type": "code",
   "execution_count": 9,
   "metadata": {},
   "outputs": [],
   "source": [
    "NAME = 'brain-tumor-identification-{}'.format(int(time.time()))\n",
    "tensorboard = TensorBoard(log_dir='./logs/{}'.format(NAME))"
   ]
  },
  {
   "cell_type": "code",
   "execution_count": 10,
   "metadata": {},
   "outputs": [
    {
     "data": {
      "text/plain": [
       "Reusing TensorBoard on port 6006 (pid 8020), started 1 day, 22:34:28 ago. (Use '!kill 8020' to kill it.)"
      ]
     },
     "metadata": {},
     "output_type": "display_data"
    },
    {
     "data": {
      "text/html": [
       "\n",
       "      <iframe id=\"tensorboard-frame-3ea6dd33fc9d2cff\" width=\"100%\" height=\"800\" frameborder=\"0\">\n",
       "      </iframe>\n",
       "      <script>\n",
       "        (function() {\n",
       "          const frame = document.getElementById(\"tensorboard-frame-3ea6dd33fc9d2cff\");\n",
       "          const url = new URL(\"/\", window.location);\n",
       "          const port = 6006;\n",
       "          if (port) {\n",
       "            url.port = port;\n",
       "          }\n",
       "          frame.src = url;\n",
       "        })();\n",
       "      </script>\n",
       "    "
      ],
      "text/plain": [
       "<IPython.core.display.HTML object>"
      ]
     },
     "metadata": {},
     "output_type": "display_data"
    }
   ],
   "source": [
    "%tensorboard --logdir logs"
   ]
  },
  {
   "cell_type": "code",
   "execution_count": 11,
   "metadata": {},
   "outputs": [],
   "source": [
    "model.compile(loss=\"binary_crossentropy\", \n",
    "              metrics = ['accuracy', \"Precision\", \"Recall\"], \n",
    "              optimizer='sgd')"
   ]
  },
  {
   "cell_type": "code",
   "execution_count": 12,
   "metadata": {},
   "outputs": [
    {
     "name": "stdout",
     "output_type": "stream",
     "text": [
      "Model: \"model\"\n",
      "_________________________________________________________________\n",
      "Layer (type)                 Output Shape              Param #   \n",
      "=================================================================\n",
      "input_1 (InputLayer)         [(None, 96, 96, 3)]       0         \n",
      "_________________________________________________________________\n",
      "block1_conv1 (Conv2D)        (None, 96, 96, 64)        1792      \n",
      "_________________________________________________________________\n",
      "block1_conv2 (Conv2D)        (None, 96, 96, 64)        36928     \n",
      "_________________________________________________________________\n",
      "block1_pool (MaxPooling2D)   (None, 48, 48, 64)        0         \n",
      "_________________________________________________________________\n",
      "block2_conv1 (Conv2D)        (None, 48, 48, 128)       73856     \n",
      "_________________________________________________________________\n",
      "block2_conv2 (Conv2D)        (None, 48, 48, 128)       147584    \n",
      "_________________________________________________________________\n",
      "block2_pool (MaxPooling2D)   (None, 24, 24, 128)       0         \n",
      "_________________________________________________________________\n",
      "block3_conv1 (Conv2D)        (None, 24, 24, 256)       295168    \n",
      "_________________________________________________________________\n",
      "block3_conv2 (Conv2D)        (None, 24, 24, 256)       590080    \n",
      "_________________________________________________________________\n",
      "block3_conv3 (Conv2D)        (None, 24, 24, 256)       590080    \n",
      "_________________________________________________________________\n",
      "block3_pool (MaxPooling2D)   (None, 12, 12, 256)       0         \n",
      "_________________________________________________________________\n",
      "block4_conv1 (Conv2D)        (None, 12, 12, 512)       1180160   \n",
      "_________________________________________________________________\n",
      "block4_conv2 (Conv2D)        (None, 12, 12, 512)       2359808   \n",
      "_________________________________________________________________\n",
      "block4_conv3 (Conv2D)        (None, 12, 12, 512)       2359808   \n",
      "_________________________________________________________________\n",
      "block4_pool (MaxPooling2D)   (None, 6, 6, 512)         0         \n",
      "_________________________________________________________________\n",
      "block5_conv1 (Conv2D)        (None, 6, 6, 512)         2359808   \n",
      "_________________________________________________________________\n",
      "block5_conv2 (Conv2D)        (None, 6, 6, 512)         2359808   \n",
      "_________________________________________________________________\n",
      "block5_conv3 (Conv2D)        (None, 6, 6, 512)         2359808   \n",
      "_________________________________________________________________\n",
      "block5_pool (MaxPooling2D)   (None, 3, 3, 512)         0         \n",
      "_________________________________________________________________\n",
      "global_average_pooling2d (Gl (None, 512)               0         \n",
      "_________________________________________________________________\n",
      "dense (Dense)                (None, 1024)              525312    \n",
      "_________________________________________________________________\n",
      "dense_1 (Dense)              (None, 1024)              1049600   \n",
      "_________________________________________________________________\n",
      "dense_2 (Dense)              (None, 512)               524800    \n",
      "_________________________________________________________________\n",
      "dense_3 (Dense)              (None, 1)                 513       \n",
      "=================================================================\n",
      "Total params: 16,814,913\n",
      "Trainable params: 16,814,913\n",
      "Non-trainable params: 0\n",
      "_________________________________________________________________\n"
     ]
    }
   ],
   "source": [
    "model.summary()"
   ]
  },
  {
   "cell_type": "code",
   "execution_count": 13,
   "metadata": {},
   "outputs": [
    {
     "name": "stdout",
     "output_type": "stream",
     "text": [
      "Epoch 1/10\n",
      "38/38 [==============================] - 45s 1s/step - loss: 0.1970 - accuracy: 0.8830 - precision: 0.9660 - recall: 0.8905 - val_loss: 5.7950 - val_accuracy: 0.0000e+00 - val_precision: 0.0000e+00 - val_recall: 0.0000e+00\n",
      "Epoch 2/10\n",
      "38/38 [==============================] - 42s 1s/step - loss: 0.1471 - accuracy: 0.9791 - precision: 0.9791 - recall: 1.0000 - val_loss: 5.5650 - val_accuracy: 0.0000e+00 - val_precision: 0.0000e+00 - val_recall: 0.0000e+00\n",
      "Epoch 3/10\n",
      "38/38 [==============================] - 43s 1s/step - loss: 0.0361 - accuracy: 0.9948 - precision: 0.9948 - recall: 1.0000 - val_loss: 5.1065 - val_accuracy: 0.0000e+00 - val_precision: 0.0000e+00 - val_recall: 0.0000e+00\n",
      "Epoch 4/10\n",
      "38/38 [==============================] - 42s 1s/step - loss: 0.0462 - accuracy: 0.9931 - precision: 0.9931 - recall: 1.0000 - val_loss: 5.2474 - val_accuracy: 0.0000e+00 - val_precision: 0.0000e+00 - val_recall: 0.0000e+00\n",
      "Epoch 5/10\n",
      "38/38 [==============================] - 42s 1s/step - loss: 0.0219 - accuracy: 0.9969 - precision: 0.9969 - recall: 1.0000 - val_loss: 4.9031 - val_accuracy: 0.0000e+00 - val_precision: 0.0000e+00 - val_recall: 0.0000e+00\n",
      "Epoch 6/10\n",
      "38/38 [==============================] - 42s 1s/step - loss: 0.0106 - accuracy: 0.9991 - precision: 0.9991 - recall: 1.0000 - val_loss: 4.2688 - val_accuracy: 0.0000e+00 - val_precision: 0.0000e+00 - val_recall: 0.0000e+00\n",
      "Epoch 7/10\n",
      "38/38 [==============================] - 43s 1s/step - loss: 0.0480 - accuracy: 0.9921 - precision: 0.9921 - recall: 1.0000 - val_loss: 5.3251 - val_accuracy: 0.0000e+00 - val_precision: 0.0000e+00 - val_recall: 0.0000e+00\n",
      "Epoch 8/10\n",
      "38/38 [==============================] - 43s 1s/step - loss: 0.1064 - accuracy: 0.9791 - precision: 0.9791 - recall: 1.0000 - val_loss: 5.7912 - val_accuracy: 0.0000e+00 - val_precision: 0.0000e+00 - val_recall: 0.0000e+00\n",
      "Epoch 9/10\n",
      "38/38 [==============================] - 43s 1s/step - loss: 0.0608 - accuracy: 0.9894 - precision: 0.9894 - recall: 1.0000 - val_loss: 5.7243 - val_accuracy: 0.0000e+00 - val_precision: 0.0000e+00 - val_recall: 0.0000e+00\n",
      "Epoch 10/10\n",
      "38/38 [==============================] - 43s 1s/step - loss: 0.0311 - accuracy: 0.9951 - precision: 0.9951 - recall: 1.0000 - val_loss: 5.2681 - val_accuracy: 0.0000e+00 - val_precision: 0.0000e+00 - val_recall: 0.0000e+00\n"
     ]
    }
   ],
   "source": [
    "history = model.fit(train_generator, \n",
    "                    epochs=10, \n",
    "                    validation_data=val_generator,\n",
    "                    shuffle=True,\n",
    "                    callbacks=[tensorboard])"
   ]
  },
  {
   "cell_type": "code",
   "execution_count": 14,
   "metadata": {},
   "outputs": [
    {
     "name": "stdout",
     "output_type": "stream",
     "text": [
      "5/5 [==============================] - 1s 239ms/step - loss: 5.2354 - accuracy: 0.0000e+00 - precision: 0.0000e+00 - recall: 0.0000e+00\n"
     ]
    },
    {
     "data": {
      "text/plain": [
       "[5.2353692054748535, 0.0, 0.0, 0.0]"
      ]
     },
     "execution_count": 14,
     "metadata": {},
     "output_type": "execute_result"
    }
   ],
   "source": [
    "model.evaluate(val_generator)"
   ]
  },
  {
   "cell_type": "code",
   "execution_count": 15,
   "metadata": {},
   "outputs": [
    {
     "data": {
      "image/png": "[encoded data removed]",
      "text/plain": [
       "<Figure size 432x288 with 1 Axes>"
      ]
     },
     "metadata": {
      "needs_background": "light"
     },
     "output_type": "display_data"
    }
   ],
   "source": [
    "loss_train = history.history['loss']\n",
    "loss_val = history.history['val_loss']\n",
    "epochs = range(0,10)\n",
    "plt.plot(epochs, loss_train, 'g', label='Training loss')\n",
    "plt.plot(epochs, loss_val, 'b', label='validation loss')\n",
    "plt.title('Training and Validation loss')\n",
    "plt.xlabel('Epochs')\n",
    "plt.ylabel('Loss')\n",
    "plt.legend()\n",
    "plt.show()"
   ]
  },
  {
   "cell_type": "code",
   "execution_count": 16,
   "metadata": {},
   "outputs": [
    {
     "data": {
      "image/png": "[encoded data removed]",
      "text/plain": [
       "<Figure size 432x288 with 1 Axes>"
      ]
     },
     "metadata": {
      "needs_background": "light"
     },
     "output_type": "display_data"
    }
   ],
   "source": [
    "loss_train = history.history['accuracy']\n",
    "loss_val = history.history['val_accuracy']\n",
    "epochs = range(0,10)\n",
    "plt.plot(epochs, loss_train, 'g', label='Training accuracy')\n",
    "plt.plot(epochs, loss_val, 'b', label='validation accuracy')\n",
    "plt.title('Training and Validation accuracy')\n",
    "plt.xlabel('Epochs')\n",
    "plt.ylabel('Loss')\n",
    "plt.legend()\n",
    "plt.show()"
   ]
  },
  {
   "cell_type": "code",
   "execution_count": 17,
   "metadata": {},
   "outputs": [
    {
     "data": {
      "image/png": "[encoded data removed]",
      "text/plain": [
       "<Figure size 432x288 with 1 Axes>"
      ]
     },
     "metadata": {
      "needs_background": "light"
     },
     "output_type": "display_data"
    }
   ],
   "source": [
    "loss_train = history.history['precision']\n",
    "loss_val = history.history['val_precision']\n",
    "epochs = range(0,10)\n",
    "plt.plot(epochs, loss_train, 'g', label='Training precision')\n",
    "plt.plot(epochs, loss_val, 'b', label='validation precision')\n",
    "plt.title('Training and Validation precision')\n",
    "plt.xlabel('Epochs')\n",
    "plt.ylabel('Loss')\n",
    "plt.legend()\n",
    "plt.show()"
   ]
  },
  {
   "cell_type": "code",
   "execution_count": null,
   "metadata": {},
   "outputs": [],
   "source": []
  }
 ],
 "metadata": {
  "kernelspec": {
   "display_name": "Python 3",
   "language": "python",
   "name": "python3"
  },
  "language_info": {
   "codemirror_mode": {
    "name": "ipython",
    "version": 3
   },
   "file_extension": ".py",
   "mimetype": "text/x-python",
   "name": "python",
   "nbconvert_exporter": "python",
   "pygments_lexer": "ipython3",
   "version": "3.8.3"
  }
 },
 "nbformat": 4,
 "nbformat_minor": 4
}
